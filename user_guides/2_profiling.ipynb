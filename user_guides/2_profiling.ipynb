{
 "cells": [
  {
   "cell_type": "code",
   "execution_count": 1,
   "metadata": {},
   "outputs": [],
   "source": [
    "import jax\n",
    "import jax.numpy as jnp"
   ]
  },
  {
   "cell_type": "code",
   "execution_count": 2,
   "metadata": {},
   "outputs": [
    {
     "name": "stderr",
     "output_type": "stream",
     "text": [
      "2025-01-14 16:43:10.679412: E external/xla/xla/python/profiler/internal/python_hooks.cc:401] Can't import tensorflow.python.profiler.trace\n",
      "2025-01-14 16:43:12.459505: E external/xla/xla/python/profiler/internal/python_hooks.cc:401] Can't import tensorflow.python.profiler.trace\n"
     ]
    }
   ],
   "source": [
    "with jax.profiler.trace(\"/tmp/jax-trace\", create_perfetto_trace==True):\n",
    "  # Run the operations to be profiled\n",
    "  key = jax.random.key(0)\n",
    "  x = jax.random.normal(key, (5000, 5000))\n",
    "  y = x @ x\n",
    "  y.block_until_ready()"
   ]
  },
  {
   "cell_type": "markdown",
   "metadata": {},
   "source": [
    " You can profile using jax.profiler.start_trace() and jax.profiler.stop_trace()"
   ]
  },
  {
   "cell_type": "markdown",
   "metadata": {},
   "source": []
  }
 ],
 "metadata": {
  "kernelspec": {
   "display_name": "venv",
   "language": "python",
   "name": "python3"
  },
  "language_info": {
   "codemirror_mode": {
    "name": "ipython",
    "version": 3
   },
   "file_extension": ".py",
   "mimetype": "text/x-python",
   "name": "python",
   "nbconvert_exporter": "python",
   "pygments_lexer": "ipython3",
   "version": "3.10.14"
  }
 },
 "nbformat": 4,
 "nbformat_minor": 2
}
