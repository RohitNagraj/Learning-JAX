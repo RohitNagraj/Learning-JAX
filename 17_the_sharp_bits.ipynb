{
 "cells": [
  {
   "cell_type": "markdown",
   "metadata": {},
   "source": [
    "Jax functions must be functionally pure."
   ]
  },
  {
   "cell_type": "markdown",
   "metadata": {},
   "source": [
    "A python function can be functionally pure even if it uses stateful objects internally, as long as it does not read or write external state"
   ]
  },
  {
   "cell_type": "markdown",
   "metadata": {},
   "source": [
    "Jax arrays cannot be modified inplace"
   ]
  },
  {
   "cell_type": "markdown",
   "metadata": {},
   "source": [
    "x.at[idx].set(y)"
   ]
  },
  {
   "cell_type": "markdown",
   "metadata": {},
   "source": [
    "Out of bound indexing in JAX does not throw error."
   ]
  },
  {
   "cell_type": "markdown",
   "metadata": {},
   "source": [
    "Think of out-of-bound indexing in jax as undefined behaviour"
   ]
  },
  {
   "cell_type": "markdown",
   "metadata": {},
   "source": [
    "Jax functions expect jax arrays as inputs. Jax.sum(python list) will throw error"
   ]
  },
  {
   "cell_type": "markdown",
   "metadata": {},
   "source": [
    "Jax.jit vmap and grad require all intermediate and output shapes to be static, ie, not dependant on the value of the arguments."
   ]
  },
  {
   "cell_type": "markdown",
   "metadata": {},
   "source": [
    "This is because each of these traces the code with abstract inputs to know the behaviour. And dynamic allocations can't be traced"
   ]
  },
  {
   "cell_type": "markdown",
   "metadata": {},
   "source": [
    "You can set JAX_DEBUG_NANS=True, this will make the code error out as soon as a nan is produced"
   ]
  },
  {
   "cell_type": "markdown",
   "metadata": {},
   "source": [
    "Gradient is zero for functions based on sort order, like max, greater, argsort"
   ]
  }
 ],
 "metadata": {
  "language_info": {
   "name": "python"
  }
 },
 "nbformat": 4,
 "nbformat_minor": 2
}
