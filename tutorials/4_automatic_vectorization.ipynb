{
 "cells": [
  {
   "cell_type": "code",
   "execution_count": 1,
   "metadata": {},
   "outputs": [],
   "source": [
    "# Vectorization is another one of jax transformations."
   ]
  },
  {
   "cell_type": "code",
   "execution_count": 2,
   "metadata": {},
   "outputs": [],
   "source": [
    "import os\n",
    "os.environ['CUDA_VISIBLE_DEVICES'] = '3'"
   ]
  },
  {
   "cell_type": "code",
   "execution_count": 3,
   "metadata": {},
   "outputs": [],
   "source": [
    "import jax\n",
    "import jax.numpy as jnp"
   ]
  },
  {
   "cell_type": "markdown",
   "metadata": {},
   "source": [
    "## Manual Vectorization"
   ]
  },
  {
   "cell_type": "code",
   "execution_count": 5,
   "metadata": {},
   "outputs": [],
   "source": [
    "x = jnp.arange(5)\n",
    "w = jnp.array([2.,3.,4.])"
   ]
  },
  {
   "cell_type": "code",
   "execution_count": 6,
   "metadata": {},
   "outputs": [],
   "source": [
    "def convolve(x, w):\n",
    "    output = []\n",
    "    for i in range(1, len(x) - 1):\n",
    "        output.append(jnp.dot(x[i-1: i+2], w))\n",
    "    return jnp.array(output)"
   ]
  },
  {
   "cell_type": "code",
   "execution_count": 8,
   "metadata": {},
   "outputs": [
    {
     "data": {
      "text/plain": [
       "Array([11., 20., 29.], dtype=float32)"
      ]
     },
     "execution_count": 8,
     "metadata": {},
     "output_type": "execute_result"
    }
   ],
   "source": [
    "convolve(x, w)"
   ]
  },
  {
   "cell_type": "code",
   "execution_count": 9,
   "metadata": {},
   "outputs": [],
   "source": [
    "# Suppose we want to apply this function to a batch of weights to a batch of vectors"
   ]
  },
  {
   "cell_type": "code",
   "execution_count": 10,
   "metadata": {},
   "outputs": [],
   "source": [
    "xs = jnp.stack([x, x])\n",
    "ws = jnp.stack([w, w])"
   ]
  },
  {
   "cell_type": "code",
   "execution_count": 11,
   "metadata": {},
   "outputs": [
    {
     "data": {
      "text/plain": [
       "(2, 5)"
      ]
     },
     "execution_count": 11,
     "metadata": {},
     "output_type": "execute_result"
    }
   ],
   "source": [
    "xs.shape"
   ]
  },
  {
   "cell_type": "code",
   "execution_count": 12,
   "metadata": {},
   "outputs": [],
   "source": [
    "# Naive way is to simply loop"
   ]
  },
  {
   "cell_type": "code",
   "execution_count": 13,
   "metadata": {},
   "outputs": [
    {
     "data": {
      "text/plain": [
       "Array([[11., 20., 29.],\n",
       "       [11., 20., 29.]], dtype=float32)"
      ]
     },
     "execution_count": 13,
     "metadata": {},
     "output_type": "execute_result"
    }
   ],
   "source": [
    "def manually_batched_convolve(xs, ws):\n",
    "  output = []\n",
    "  for i in range(xs.shape[0]):\n",
    "    output.append(convolve(xs[i], ws[i]))\n",
    "  return jnp.stack(output)\n",
    "\n",
    "manually_batched_convolve(xs, ws)"
   ]
  },
  {
   "cell_type": "code",
   "execution_count": 14,
   "metadata": {},
   "outputs": [
    {
     "data": {
      "text/plain": [
       "Array([[11., 20., 29.],\n",
       "       [11., 20., 29.]], dtype=float32)"
      ]
     },
     "execution_count": 14,
     "metadata": {},
     "output_type": "execute_result"
    }
   ],
   "source": [
    "def manually_vectorized_convolve(xs, ws):\n",
    "  output = []\n",
    "  for i in range(1, xs.shape[-1] -1):\n",
    "    output.append(jnp.sum(xs[:, i-1:i+2] * ws, axis=1))\n",
    "  return jnp.stack(output, axis=1)\n",
    "\n",
    "manually_vectorized_convolve(xs, ws)"
   ]
  },
  {
   "cell_type": "markdown",
   "metadata": {},
   "source": [
    "## Automatic vectorization"
   ]
  },
  {
   "cell_type": "markdown",
   "metadata": {},
   "source": [
    "jax.vmap() is designed to generate such a vectorized implementation of the function automatically."
   ]
  },
  {
   "cell_type": "code",
   "execution_count": 15,
   "metadata": {},
   "outputs": [],
   "source": [
    "auto_batch_convolve = jax.vmap(convolve)"
   ]
  },
  {
   "cell_type": "code",
   "execution_count": 16,
   "metadata": {},
   "outputs": [
    {
     "data": {
      "text/plain": [
       "Array([[11., 20., 29.],\n",
       "       [11., 20., 29.]], dtype=float32)"
      ]
     },
     "execution_count": 16,
     "metadata": {},
     "output_type": "execute_result"
    }
   ],
   "source": [
    "auto_batch_convolve(xs, ws)"
   ]
  },
  {
   "cell_type": "code",
   "execution_count": 17,
   "metadata": {},
   "outputs": [],
   "source": [
    "# It does this by tracing the function like jax.jit then automatically adding batch axes at the beginning of each input."
   ]
  },
  {
   "cell_type": "code",
   "execution_count": 18,
   "metadata": {},
   "outputs": [
    {
     "data": {
      "text/plain": [
       "{ lambda ; a:i32[2,5] b:f32[2,3]. let\n",
       "    c:i32[2,3] = slice[limit_indices=(2, 3) start_indices=(0, 0) strides=None] a\n",
       "    d:f32[2] = dot_general[\n",
       "      dimension_numbers=(([1], [1]), ([0], [0]))\n",
       "      preferred_element_type=float32\n",
       "    ] c b\n",
       "    e:i32[2,3] = slice[limit_indices=(2, 4) start_indices=(0, 1) strides=None] a\n",
       "    f:f32[2] = dot_general[\n",
       "      dimension_numbers=(([1], [1]), ([0], [0]))\n",
       "      preferred_element_type=float32\n",
       "    ] e b\n",
       "    g:i32[2,3] = slice[limit_indices=(2, 5) start_indices=(0, 2) strides=None] a\n",
       "    h:f32[2] = dot_general[\n",
       "      dimension_numbers=(([1], [1]), ([0], [0]))\n",
       "      preferred_element_type=float32\n",
       "    ] g b\n",
       "    i:f32[2,1] = broadcast_in_dim[\n",
       "      broadcast_dimensions=(0,)\n",
       "      shape=(2, 1)\n",
       "      sharding=None\n",
       "    ] d\n",
       "    j:f32[2,1] = broadcast_in_dim[\n",
       "      broadcast_dimensions=(0,)\n",
       "      shape=(2, 1)\n",
       "      sharding=None\n",
       "    ] f\n",
       "    k:f32[2,1] = broadcast_in_dim[\n",
       "      broadcast_dimensions=(0,)\n",
       "      shape=(2, 1)\n",
       "      sharding=None\n",
       "    ] h\n",
       "    l:f32[2,3] = concatenate[dimension=1] i j k\n",
       "  in (l,) }"
      ]
     },
     "execution_count": 18,
     "metadata": {},
     "output_type": "execute_result"
    }
   ],
   "source": [
    "jax.make_jaxpr(auto_batch_convolve)(xs, ws)"
   ]
  },
  {
   "cell_type": "code",
   "execution_count": 19,
   "metadata": {},
   "outputs": [
    {
     "data": {
      "text/plain": [
       "{ lambda ; a:i32[5] b:f32[3]. let\n",
       "    c:i32[3] = slice[limit_indices=(3,) start_indices=(0,) strides=None] a\n",
       "    d:f32[] = dot_general[\n",
       "      dimension_numbers=(([0], [0]), ([], []))\n",
       "      preferred_element_type=float32\n",
       "    ] c b\n",
       "    e:i32[3] = slice[limit_indices=(4,) start_indices=(1,) strides=None] a\n",
       "    f:f32[] = dot_general[\n",
       "      dimension_numbers=(([0], [0]), ([], []))\n",
       "      preferred_element_type=float32\n",
       "    ] e b\n",
       "    g:i32[3] = slice[limit_indices=(5,) start_indices=(2,) strides=None] a\n",
       "    h:f32[] = dot_general[\n",
       "      dimension_numbers=(([0], [0]), ([], []))\n",
       "      preferred_element_type=float32\n",
       "    ] g b\n",
       "    i:f32[1] = broadcast_in_dim[\n",
       "      broadcast_dimensions=()\n",
       "      shape=(1,)\n",
       "      sharding=None\n",
       "    ] d\n",
       "    j:f32[1] = broadcast_in_dim[\n",
       "      broadcast_dimensions=()\n",
       "      shape=(1,)\n",
       "      sharding=None\n",
       "    ] f\n",
       "    k:f32[1] = broadcast_in_dim[\n",
       "      broadcast_dimensions=()\n",
       "      shape=(1,)\n",
       "      sharding=None\n",
       "    ] h\n",
       "    l:f32[3] = concatenate[dimension=0] i j k\n",
       "  in (l,) }"
      ]
     },
     "execution_count": 19,
     "metadata": {},
     "output_type": "execute_result"
    }
   ],
   "source": [
    "jax.make_jaxpr(convolve)(x, w)"
   ]
  },
  {
   "cell_type": "code",
   "execution_count": 20,
   "metadata": {},
   "outputs": [],
   "source": [
    "# You can also convolve single w on every item of x by setting in_axes=[0, None], 0 representing x and None representing w."
   ]
  },
  {
   "cell_type": "code",
   "execution_count": null,
   "metadata": {},
   "outputs": [],
   "source": []
  }
 ],
 "metadata": {
  "kernelspec": {
   "display_name": "venv",
   "language": "python",
   "name": "python3"
  },
  "language_info": {
   "codemirror_mode": {
    "name": "ipython",
    "version": 3
   },
   "file_extension": ".py",
   "mimetype": "text/x-python",
   "name": "python",
   "nbconvert_exporter": "python",
   "pygments_lexer": "ipython3",
   "version": "3.10.14"
  }
 },
 "nbformat": 4,
 "nbformat_minor": 2
}
