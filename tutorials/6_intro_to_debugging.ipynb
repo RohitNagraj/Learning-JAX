{
 "cells": [
  {
   "cell_type": "code",
   "execution_count": 1,
   "metadata": {},
   "outputs": [],
   "source": [
    "import os\n",
    "os.environ['CUDA_VISIBLE_DEVICES'] = '3'"
   ]
  },
  {
   "cell_type": "markdown",
   "metadata": {},
   "source": [
    "## jax.debug.print"
   ]
  },
  {
   "cell_type": "code",
   "execution_count": 2,
   "metadata": {},
   "outputs": [],
   "source": [
    "# Use jax.debug.print for traced (dynamic) array values with jax.jit, jax.vmap and others\n",
    "# Use python print with static values such as dtypes and shapes."
   ]
  },
  {
   "cell_type": "code",
   "execution_count": 4,
   "metadata": {},
   "outputs": [],
   "source": [
    "import jax"
   ]
  },
  {
   "cell_type": "code",
   "execution_count": 7,
   "metadata": {},
   "outputs": [
    {
     "name": "stdout",
     "output_type": "stream",
     "text": [
      "jax.debug.print(x) -> 1\n",
      "jax.debug.print(y) -> 2\n"
     ]
    },
    {
     "data": {
      "text/plain": [
       "Array(3, dtype=int32, weak_type=True)"
      ]
     },
     "execution_count": 7,
     "metadata": {},
     "output_type": "execute_result"
    }
   ],
   "source": [
    "@jax.jit\n",
    "def f(x, y):\n",
    "  jax.debug.print(\"jax.debug.print(x) -> {}\", x)\n",
    "  jax.debug.print(\"jax.debug.print(y) -> {}\", y)\n",
    "  return x + y\n",
    "\n",
    "f(1, 2)"
   ]
  },
  {
   "cell_type": "code",
   "execution_count": 5,
   "metadata": {},
   "outputs": [
    {
     "name": "stdout",
     "output_type": "stream",
     "text": [
      "jax.debug.print(x) -> 1\n",
      "jax.debug.print(y) -> 2\n"
     ]
    },
    {
     "data": {
      "text/plain": [
       "Array(3, dtype=int32, weak_type=True)"
      ]
     },
     "execution_count": 5,
     "metadata": {},
     "output_type": "execute_result"
    }
   ],
   "source": [
    "# If you want multiple print statements in the same order, use ordered=True param. \n",
    "@jax.jit\n",
    "def f(x, y):\n",
    "  jax.debug.print(\"jax.debug.print(x) -> {}\", x, ordered=True)\n",
    "  jax.debug.print(\"jax.debug.print(y) -> {}\", y, ordered=True)\n",
    "  return x + y\n",
    "\n",
    "f(1, 2)"
   ]
  },
  {
   "cell_type": "code",
   "execution_count": 8,
   "metadata": {},
   "outputs": [
    {
     "data": {
      "text/plain": [
       "{ lambda ; a:i32[] b:i32[]. let\n",
       "    c:i32[] = pjit[\n",
       "      name=f\n",
       "      jaxpr={ lambda ; d:i32[] e:i32[]. let\n",
       "          debug_callback[\n",
       "            callback=<function debug_callback.<locals>._flat_callback at 0x7f3566926950>\n",
       "            effect=Debug\n",
       "          ] d\n",
       "          debug_callback[\n",
       "            callback=<function debug_callback.<locals>._flat_callback at 0x7f3566926710>\n",
       "            effect=Debug\n",
       "          ] e\n",
       "          f:i32[] = add d e\n",
       "        in (f,) }\n",
       "    ] a b\n",
       "  in (c,) }"
      ]
     },
     "execution_count": 8,
     "metadata": {},
     "output_type": "execute_result"
    }
   ],
   "source": [
    "jax.make_jaxpr(f)(2,3)"
   ]
  },
  {
   "cell_type": "markdown",
   "metadata": {},
   "source": [
    "## Jax.debug.breakpoint"
   ]
  },
  {
   "cell_type": "code",
   "execution_count": 9,
   "metadata": {},
   "outputs": [],
   "source": [
    "import jax.numpy as jnp"
   ]
  },
  {
   "cell_type": "code",
   "execution_count": 11,
   "metadata": {},
   "outputs": [
    {
     "name": "stdout",
     "output_type": "stream",
     "text": [
      "Entering jdb:\n",
      "Array(2., dtype=float32)\n",
      "Array(0.90929747, dtype=float32)\n",
      "*** SyntaxError: invalid syntax\n",
      "Array(-0.4161468, dtype=float32)\n",
      "Array(-0.4161468, dtype=float32)\n"
     ]
    },
    {
     "name": "stderr",
     "output_type": "stream",
     "text": [
      "ERROR:2025-01-11 16:26:14,800:jax._src.debugging:95: jax.debug.callback failed\n",
      "Traceback (most recent call last):\n",
      "  File \"/home/oppenheimer/LinuxSetup/work/Learning-JAX/venv/lib/python3.10/site-packages/jax/_src/debugging.py\", line 93, in debug_callback_impl\n",
      "    callback(*args)\n",
      "  File \"/home/oppenheimer/LinuxSetup/work/Learning-JAX/venv/lib/python3.10/site-packages/jax/_src/debugging.py\", line 278, in _flat_callback\n",
      "    callback(*args, **kwargs)\n",
      "  File \"/home/oppenheimer/LinuxSetup/work/Learning-JAX/venv/lib/python3.10/site-packages/jax/_src/debugger/core.py\", line 220, in _breakpoint_callback\n",
      "    debugger(frames, thread_id, **kwargs)\n",
      "  File \"/home/oppenheimer/LinuxSetup/work/Learning-JAX/venv/lib/python3.10/site-packages/jax/_src/debugger/cli_debugger.py\", line 167, in run_debugger\n",
      "    CliDebugger(frames, thread_id, **kwargs).run()\n",
      "  File \"/home/oppenheimer/LinuxSetup/work/Learning-JAX/venv/lib/python3.10/site-packages/jax/_src/debugger/cli_debugger.py\", line 160, in run\n",
      "    self.cmdloop()\n",
      "  File \"/usr/local/lib/python3.10/cmd.py\", line 138, in cmdloop\n",
      "    stop = self.onecmd(line)\n",
      "  File \"/usr/local/lib/python3.10/cmd.py\", line 217, in onecmd\n",
      "    return func(arg)\n",
      "  File \"/home/oppenheimer/LinuxSetup/work/Learning-JAX/venv/lib/python3.10/site-packages/jax/_src/debugger/cli_debugger.py\", line 146, in do_quit\n",
      "    sys.exit(0)\n",
      "SystemExit: 0\n",
      "E0111 16:26:14.810693 3713327 pjrt_stream_executor_client.cc:3086] Execution of replica 0 failed: INTERNAL: CustomCall failed: CpuCallback error: Traceback (most recent call last):\n",
      "  File \"/usr/local/lib/python3.10/runpy.py\", line 196, in _run_module_as_main\n",
      "  File \"/usr/local/lib/python3.10/runpy.py\", line 86, in _run_code\n",
      "  File \"/home/oppenheimer/LinuxSetup/work/Learning-JAX/venv/lib/python3.10/site-packages/ipykernel_launcher.py\", line 18, in <module>\n",
      "  File \"/home/oppenheimer/LinuxSetup/work/Learning-JAX/venv/lib/python3.10/site-packages/traitlets/config/application.py\", line 1075, in launch_instance\n",
      "  File \"/home/oppenheimer/LinuxSetup/work/Learning-JAX/venv/lib/python3.10/site-packages/ipykernel/kernelapp.py\", line 739, in start\n",
      "  File \"/home/oppenheimer/LinuxSetup/work/Learning-JAX/venv/lib/python3.10/site-packages/tornado/platform/asyncio.py\", line 205, in start\n",
      "  File \"/usr/local/lib/python3.10/asyncio/base_events.py\", line 603, in run_forever\n",
      "  File \"/usr/local/lib/python3.10/asyncio/base_events.py\", line 1909, in _run_once\n",
      "  File \"/usr/local/lib/python3.10/asyncio/events.py\", line 80, in _run\n",
      "  File \"/home/oppenheimer/LinuxSetup/work/Learning-JAX/venv/lib/python3.10/site-packages/ipykernel/kernelbase.py\", line 545, in dispatch_queue\n",
      "  File \"/home/oppenheimer/LinuxSetup/work/Learning-JAX/venv/lib/python3.10/site-packages/ipykernel/kernelbase.py\", line 534, in process_one\n",
      "  File \"/home/oppenheimer/LinuxSetup/work/Learning-JAX/venv/lib/python3.10/site-packages/ipykernel/kernelbase.py\", line 437, in dispatch_shell\n",
      "  File \"/home/oppenheimer/LinuxSetup/work/Learning-JAX/venv/lib/python3.10/site-packages/ipykernel/ipkernel.py\", line 362, in execute_request\n",
      "  File \"/home/oppenheimer/LinuxSetup/work/Learning-JAX/venv/lib/python3.10/site-packages/ipykernel/kernelbase.py\", line 778, in execute_request\n",
      "  File \"/home/oppenheimer/LinuxSetup/work/Learning-JAX/venv/lib/python3.10/site-packages/ipykernel/ipkernel.py\", line 449, in do_execute\n",
      "  File \"/home/oppenheimer/LinuxSetup/work/Learning-JAX/venv/lib/python3.10/site-packages/ipykernel/zmqshell.py\", line 549, in run_cell\n",
      "  File \"/home/oppenheimer/LinuxSetup/work/Learning-JAX/venv/lib/python3.10/site-packages/IPython/core/interactiveshell.py\", line 3075, in run_cell\n",
      "  File \"/home/oppenheimer/LinuxSetup/work/Learning-JAX/venv/lib/python3.10/site-packages/IPython/core/interactiveshell.py\", line 3130, in _run_cell\n",
      "  File \"/home/oppenheimer/LinuxSetup/work/Learning-JAX/venv/lib/python3.10/site-packages/IPython/core/async_helpers.py\", line 128, in _pseudo_sync_runner\n",
      "  File \"/home/oppenheimer/LinuxSetup/work/Learning-JAX/venv/lib/python3.10/site-packages/IPython/core/interactiveshell.py\", line 3334, in run_cell_async\n",
      "  File \"/home/oppenheimer/LinuxSetup/work/Learning-JAX/venv/lib/python3.10/site-packages/IPython/core/interactiveshell.py\", line 3517, in run_ast_nodes\n",
      "  File \"/home/oppenheimer/LinuxSetup/work/Learning-JAX/venv/lib/python3.10/site-packages/IPython/core/interactiveshell.py\", line 3577, in run_code\n",
      "  File \"/tmp/ipykernel_3713327/1022190613.py\", line 6, in <module>\n",
      "  File \"/home/oppenheimer/LinuxSetup/work/Learning-JAX/venv/lib/python3.10/site-packages/jax/_src/traceback_util.py\", line 180, in reraise_with_filtered_traceback\n",
      "  File \"/home/oppenheimer/LinuxSetup/work/Learning-JAX/venv/lib/python3.10/site-packages/jax/_src/pjit.py\", line 337, in cache_miss\n",
      "  File \"/home/oppenheimer/LinuxSetup/work/Learning-JAX/venv/lib/python3.10/site-packages/jax/_src/pjit.py\", line 195, in _python_pjit_helper\n",
      "  File \"/home/oppenheimer/LinuxSetup/work/Learning-JAX/venv/lib/python3.10/site-packages/jax/_src/pjit.py\", line 1695, in _pjit_call_impl_python\n",
      "  File \"/home/oppenheimer/LinuxSetup/work/Learning-JAX/venv/lib/python3.10/site-packages/jax/_src/profiler.py\", line 333, in wrapper\n",
      "  File \"/home/oppenheimer/LinuxSetup/work/Learning-JAX/venv/lib/python3.10/site-packages/jax/_src/interpreters/pxla.py\", line 1289, in __call__\n",
      "  File \"/home/oppenheimer/LinuxSetup/work/Learning-JAX/venv/lib/python3.10/site-packages/jax/_src/interpreters/mlir.py\", line 2854, in _wrapped_callback\n",
      "  File \"/home/oppenheimer/LinuxSetup/work/Learning-JAX/venv/lib/python3.10/site-packages/jax/_src/debugging.py\", line 160, in _callback\n",
      "  File \"/home/oppenheimer/LinuxSetup/work/Learning-JAX/venv/lib/python3.10/site-packages/jax/_src/debugging.py\", line 96, in debug_callback_impl\n",
      "  File \"/home/oppenheimer/LinuxSetup/work/Learning-JAX/venv/lib/python3.10/site-packages/jax/_src/debugging.py\", line 278, in _flat_callback\n",
      "  File \"/home/oppenheimer/LinuxSetup/work/Learning-JAX/venv/lib/python3.10/site-packages/jax/_src/debugger/core.py\", line 220, in _breakpoint_callback\n",
      "  File \"/home/oppenheimer/LinuxSetup/work/Learning-JAX/venv/lib/python3.10/site-packages/jax/_src/debugger/cli_debugger.py\", line 167, in run_debugger\n",
      "  File \"/home/oppenheimer/LinuxSetup/work/Learning-JAX/venv/lib/python3.10/site-packages/jax/_src/debugger/cli_debugger.py\", line 162, in run\n",
      "  File \"/usr/local/lib/python3.10/cmd.py\", line 145, in cmdloop\n",
      "  File \"/usr/local/lib/python3.10/cmd.py\", line 217, in onecmd\n",
      "  File \"/home/oppenheimer/LinuxSetup/work/Learning-JAX/venv/lib/python3.10/site-packages/jax/_src/debugger/cli_debugger.py\", line 146, in do_quit\n",
      "SystemExit: 0\n"
     ]
    },
    {
     "ename": "XlaRuntimeError",
     "evalue": "INTERNAL: CustomCall failed: CpuCallback error: Traceback (most recent call last):\n  File \"/usr/local/lib/python3.10/runpy.py\", line 196, in _run_module_as_main\n  File \"/usr/local/lib/python3.10/runpy.py\", line 86, in _run_code\n  File \"/home/oppenheimer/LinuxSetup/work/Learning-JAX/venv/lib/python3.10/site-packages/ipykernel_launcher.py\", line 18, in <module>\n  File \"/home/oppenheimer/LinuxSetup/work/Learning-JAX/venv/lib/python3.10/site-packages/traitlets/config/application.py\", line 1075, in launch_instance\n  File \"/home/oppenheimer/LinuxSetup/work/Learning-JAX/venv/lib/python3.10/site-packages/ipykernel/kernelapp.py\", line 739, in start\n  File \"/home/oppenheimer/LinuxSetup/work/Learning-JAX/venv/lib/python3.10/site-packages/tornado/platform/asyncio.py\", line 205, in start\n  File \"/usr/local/lib/python3.10/asyncio/base_events.py\", line 603, in run_forever\n  File \"/usr/local/lib/python3.10/asyncio/base_events.py\", line 1909, in _run_once\n  File \"/usr/local/lib/python3.10/asyncio/events.py\", line 80, in _run\n  File \"/home/oppenheimer/LinuxSetup/work/Learning-JAX/venv/lib/python3.10/site-packages/ipykernel/kernelbase.py\", line 545, in dispatch_queue\n  File \"/home/oppenheimer/LinuxSetup/work/Learning-JAX/venv/lib/python3.10/site-packages/ipykernel/kernelbase.py\", line 534, in process_one\n  File \"/home/oppenheimer/LinuxSetup/work/Learning-JAX/venv/lib/python3.10/site-packages/ipykernel/kernelbase.py\", line 437, in dispatch_shell\n  File \"/home/oppenheimer/LinuxSetup/work/Learning-JAX/venv/lib/python3.10/site-packages/ipykernel/ipkernel.py\", line 362, in execute_request\n  File \"/home/oppenheimer/LinuxSetup/work/Learning-JAX/venv/lib/python3.10/site-packages/ipykernel/kernelbase.py\", line 778, in execute_request\n  File \"/home/oppenheimer/LinuxSetup/work/Learning-JAX/venv/lib/python3.10/site-packages/ipykernel/ipkernel.py\", line 449, in do_execute\n  File \"/home/oppenheimer/LinuxSetup/work/Learning-JAX/venv/lib/python3.10/site-packages/ipykernel/zmqshell.py\", line 549, in run_cell\n  File \"/home/oppenheimer/LinuxSetup/work/Learning-JAX/venv/lib/python3.10/site-packages/IPython/core/interactiveshell.py\", line 3075, in run_cell\n  File \"/home/oppenheimer/LinuxSetup/work/Learning-JAX/venv/lib/python3.10/site-packages/IPython/core/interactiveshell.py\", line 3130, in _run_cell\n  File \"/home/oppenheimer/LinuxSetup/work/Learning-JAX/venv/lib/python3.10/site-packages/IPython/core/async_helpers.py\", line 128, in _pseudo_sync_runner\n  File \"/home/oppenheimer/LinuxSetup/work/Learning-JAX/venv/lib/python3.10/site-packages/IPython/core/interactiveshell.py\", line 3334, in run_cell_async\n  File \"/home/oppenheimer/LinuxSetup/work/Learning-JAX/venv/lib/python3.10/site-packages/IPython/core/interactiveshell.py\", line 3517, in run_ast_nodes\n  File \"/home/oppenheimer/LinuxSetup/work/Learning-JAX/venv/lib/python3.10/site-packages/IPython/core/interactiveshell.py\", line 3577, in run_code\n  File \"/tmp/ipykernel_3713327/1022190613.py\", line 6, in <module>\n  File \"/home/oppenheimer/LinuxSetup/work/Learning-JAX/venv/lib/python3.10/site-packages/jax/_src/traceback_util.py\", line 180, in reraise_with_filtered_traceback\n  File \"/home/oppenheimer/LinuxSetup/work/Learning-JAX/venv/lib/python3.10/site-packages/jax/_src/pjit.py\", line 337, in cache_miss\n  File \"/home/oppenheimer/LinuxSetup/work/Learning-JAX/venv/lib/python3.10/site-packages/jax/_src/pjit.py\", line 195, in _python_pjit_helper\n  File \"/home/oppenheimer/LinuxSetup/work/Learning-JAX/venv/lib/python3.10/site-packages/jax/_src/pjit.py\", line 1695, in _pjit_call_impl_python\n  File \"/home/oppenheimer/LinuxSetup/work/Learning-JAX/venv/lib/python3.10/site-packages/jax/_src/profiler.py\", line 333, in wrapper\n  File \"/home/oppenheimer/LinuxSetup/work/Learning-JAX/venv/lib/python3.10/site-packages/jax/_src/interpreters/pxla.py\", line 1289, in __call__\n  File \"/home/oppenheimer/LinuxSetup/work/Learning-JAX/venv/lib/python3.10/site-packages/jax/_src/interpreters/mlir.py\", line 2854, in _wrapped_callback\n  File \"/home/oppenheimer/LinuxSetup/work/Learning-JAX/venv/lib/python3.10/site-packages/jax/_src/debugging.py\", line 160, in _callback\n  File \"/home/oppenheimer/LinuxSetup/work/Learning-JAX/venv/lib/python3.10/site-packages/jax/_src/debugging.py\", line 96, in debug_callback_impl\n  File \"/home/oppenheimer/LinuxSetup/work/Learning-JAX/venv/lib/python3.10/site-packages/jax/_src/debugging.py\", line 278, in _flat_callback\n  File \"/home/oppenheimer/LinuxSetup/work/Learning-JAX/venv/lib/python3.10/site-packages/jax/_src/debugger/core.py\", line 220, in _breakpoint_callback\n  File \"/home/oppenheimer/LinuxSetup/work/Learning-JAX/venv/lib/python3.10/site-packages/jax/_src/debugger/cli_debugger.py\", line 167, in run_debugger\n  File \"/home/oppenheimer/LinuxSetup/work/Learning-JAX/venv/lib/python3.10/site-packages/jax/_src/debugger/cli_debugger.py\", line 162, in run\n  File \"/usr/local/lib/python3.10/cmd.py\", line 145, in cmdloop\n  File \"/usr/local/lib/python3.10/cmd.py\", line 217, in onecmd\n  File \"/home/oppenheimer/LinuxSetup/work/Learning-JAX/venv/lib/python3.10/site-packages/jax/_src/debugger/cli_debugger.py\", line 146, in do_quit\nSystemExit: 0",
     "output_type": "error",
     "traceback": [
      "\u001b[0;31m---------------------------------------------------------------------------\u001b[0m",
      "\u001b[0;31mXlaRuntimeError\u001b[0m                           Traceback (most recent call last)",
      "Cell \u001b[0;32mIn[11], line 6\u001b[0m\n\u001b[1;32m      4\u001b[0m   jax\u001b[38;5;241m.\u001b[39mdebug\u001b[38;5;241m.\u001b[39mbreakpoint()\n\u001b[1;32m      5\u001b[0m   \u001b[38;5;28;01mreturn\u001b[39;00m y \u001b[38;5;241m*\u001b[39m z\n\u001b[0;32m----> 6\u001b[0m \u001b[43mf\u001b[49m\u001b[43m(\u001b[49m\u001b[38;5;241;43m2.\u001b[39;49m\u001b[43m)\u001b[49m \u001b[38;5;66;03m# ==> Pauses during execution\u001b[39;00m\n",
      "    \u001b[0;31m[... skipping hidden 5 frame]\u001b[0m\n",
      "File \u001b[0;32m~/LinuxSetup/work/Learning-JAX/venv/lib/python3.10/site-packages/jax/_src/interpreters/pxla.py:1289\u001b[0m, in \u001b[0;36mExecuteReplicated.__call__\u001b[0;34m(self, *args)\u001b[0m\n\u001b[1;32m   1286\u001b[0m \u001b[38;5;28;01mif\u001b[39;00m (\u001b[38;5;28mself\u001b[39m\u001b[38;5;241m.\u001b[39mordered_effects \u001b[38;5;129;01mor\u001b[39;00m \u001b[38;5;28mself\u001b[39m\u001b[38;5;241m.\u001b[39mhas_unordered_effects\n\u001b[1;32m   1287\u001b[0m     \u001b[38;5;129;01mor\u001b[39;00m \u001b[38;5;28mself\u001b[39m\u001b[38;5;241m.\u001b[39mhas_host_callbacks):\n\u001b[1;32m   1288\u001b[0m   input_bufs \u001b[38;5;241m=\u001b[39m \u001b[38;5;28mself\u001b[39m\u001b[38;5;241m.\u001b[39m_add_tokens_to_inputs(input_bufs)\n\u001b[0;32m-> 1289\u001b[0m   results \u001b[38;5;241m=\u001b[39m \u001b[38;5;28;43mself\u001b[39;49m\u001b[38;5;241;43m.\u001b[39;49m\u001b[43mxla_executable\u001b[49m\u001b[38;5;241;43m.\u001b[39;49m\u001b[43mexecute_sharded\u001b[49m\u001b[43m(\u001b[49m\n\u001b[1;32m   1290\u001b[0m \u001b[43m      \u001b[49m\u001b[43minput_bufs\u001b[49m\u001b[43m,\u001b[49m\u001b[43m \u001b[49m\u001b[43mwith_tokens\u001b[49m\u001b[38;5;241;43m=\u001b[39;49m\u001b[38;5;28;43;01mTrue\u001b[39;49;00m\n\u001b[1;32m   1291\u001b[0m \u001b[43m  \u001b[49m\u001b[43m)\u001b[49m\n\u001b[1;32m   1293\u001b[0m   result_token_bufs \u001b[38;5;241m=\u001b[39m results\u001b[38;5;241m.\u001b[39mdisassemble_prefix_into_single_device_arrays(\n\u001b[1;32m   1294\u001b[0m       \u001b[38;5;28mlen\u001b[39m(\u001b[38;5;28mself\u001b[39m\u001b[38;5;241m.\u001b[39mordered_effects))\n\u001b[1;32m   1295\u001b[0m   sharded_runtime_token \u001b[38;5;241m=\u001b[39m results\u001b[38;5;241m.\u001b[39mconsume_token()\n",
      "\u001b[0;31mXlaRuntimeError\u001b[0m: INTERNAL: CustomCall failed: CpuCallback error: Traceback (most recent call last):\n  File \"/usr/local/lib/python3.10/runpy.py\", line 196, in _run_module_as_main\n  File \"/usr/local/lib/python3.10/runpy.py\", line 86, in _run_code\n  File \"/home/oppenheimer/LinuxSetup/work/Learning-JAX/venv/lib/python3.10/site-packages/ipykernel_launcher.py\", line 18, in <module>\n  File \"/home/oppenheimer/LinuxSetup/work/Learning-JAX/venv/lib/python3.10/site-packages/traitlets/config/application.py\", line 1075, in launch_instance\n  File \"/home/oppenheimer/LinuxSetup/work/Learning-JAX/venv/lib/python3.10/site-packages/ipykernel/kernelapp.py\", line 739, in start\n  File \"/home/oppenheimer/LinuxSetup/work/Learning-JAX/venv/lib/python3.10/site-packages/tornado/platform/asyncio.py\", line 205, in start\n  File \"/usr/local/lib/python3.10/asyncio/base_events.py\", line 603, in run_forever\n  File \"/usr/local/lib/python3.10/asyncio/base_events.py\", line 1909, in _run_once\n  File \"/usr/local/lib/python3.10/asyncio/events.py\", line 80, in _run\n  File \"/home/oppenheimer/LinuxSetup/work/Learning-JAX/venv/lib/python3.10/site-packages/ipykernel/kernelbase.py\", line 545, in dispatch_queue\n  File \"/home/oppenheimer/LinuxSetup/work/Learning-JAX/venv/lib/python3.10/site-packages/ipykernel/kernelbase.py\", line 534, in process_one\n  File \"/home/oppenheimer/LinuxSetup/work/Learning-JAX/venv/lib/python3.10/site-packages/ipykernel/kernelbase.py\", line 437, in dispatch_shell\n  File \"/home/oppenheimer/LinuxSetup/work/Learning-JAX/venv/lib/python3.10/site-packages/ipykernel/ipkernel.py\", line 362, in execute_request\n  File \"/home/oppenheimer/LinuxSetup/work/Learning-JAX/venv/lib/python3.10/site-packages/ipykernel/kernelbase.py\", line 778, in execute_request\n  File \"/home/oppenheimer/LinuxSetup/work/Learning-JAX/venv/lib/python3.10/site-packages/ipykernel/ipkernel.py\", line 449, in do_execute\n  File \"/home/oppenheimer/LinuxSetup/work/Learning-JAX/venv/lib/python3.10/site-packages/ipykernel/zmqshell.py\", line 549, in run_cell\n  File \"/home/oppenheimer/LinuxSetup/work/Learning-JAX/venv/lib/python3.10/site-packages/IPython/core/interactiveshell.py\", line 3075, in run_cell\n  File \"/home/oppenheimer/LinuxSetup/work/Learning-JAX/venv/lib/python3.10/site-packages/IPython/core/interactiveshell.py\", line 3130, in _run_cell\n  File \"/home/oppenheimer/LinuxSetup/work/Learning-JAX/venv/lib/python3.10/site-packages/IPython/core/async_helpers.py\", line 128, in _pseudo_sync_runner\n  File \"/home/oppenheimer/LinuxSetup/work/Learning-JAX/venv/lib/python3.10/site-packages/IPython/core/interactiveshell.py\", line 3334, in run_cell_async\n  File \"/home/oppenheimer/LinuxSetup/work/Learning-JAX/venv/lib/python3.10/site-packages/IPython/core/interactiveshell.py\", line 3517, in run_ast_nodes\n  File \"/home/oppenheimer/LinuxSetup/work/Learning-JAX/venv/lib/python3.10/site-packages/IPython/core/interactiveshell.py\", line 3577, in run_code\n  File \"/tmp/ipykernel_3713327/1022190613.py\", line 6, in <module>\n  File \"/home/oppenheimer/LinuxSetup/work/Learning-JAX/venv/lib/python3.10/site-packages/jax/_src/traceback_util.py\", line 180, in reraise_with_filtered_traceback\n  File \"/home/oppenheimer/LinuxSetup/work/Learning-JAX/venv/lib/python3.10/site-packages/jax/_src/pjit.py\", line 337, in cache_miss\n  File \"/home/oppenheimer/LinuxSetup/work/Learning-JAX/venv/lib/python3.10/site-packages/jax/_src/pjit.py\", line 195, in _python_pjit_helper\n  File \"/home/oppenheimer/LinuxSetup/work/Learning-JAX/venv/lib/python3.10/site-packages/jax/_src/pjit.py\", line 1695, in _pjit_call_impl_python\n  File \"/home/oppenheimer/LinuxSetup/work/Learning-JAX/venv/lib/python3.10/site-packages/jax/_src/profiler.py\", line 333, in wrapper\n  File \"/home/oppenheimer/LinuxSetup/work/Learning-JAX/venv/lib/python3.10/site-packages/jax/_src/interpreters/pxla.py\", line 1289, in __call__\n  File \"/home/oppenheimer/LinuxSetup/work/Learning-JAX/venv/lib/python3.10/site-packages/jax/_src/interpreters/mlir.py\", line 2854, in _wrapped_callback\n  File \"/home/oppenheimer/LinuxSetup/work/Learning-JAX/venv/lib/python3.10/site-packages/jax/_src/debugging.py\", line 160, in _callback\n  File \"/home/oppenheimer/LinuxSetup/work/Learning-JAX/venv/lib/python3.10/site-packages/jax/_src/debugging.py\", line 96, in debug_callback_impl\n  File \"/home/oppenheimer/LinuxSetup/work/Learning-JAX/venv/lib/python3.10/site-packages/jax/_src/debugging.py\", line 278, in _flat_callback\n  File \"/home/oppenheimer/LinuxSetup/work/Learning-JAX/venv/lib/python3.10/site-packages/jax/_src/debugger/core.py\", line 220, in _breakpoint_callback\n  File \"/home/oppenheimer/LinuxSetup/work/Learning-JAX/venv/lib/python3.10/site-packages/jax/_src/debugger/cli_debugger.py\", line 167, in run_debugger\n  File \"/home/oppenheimer/LinuxSetup/work/Learning-JAX/venv/lib/python3.10/site-packages/jax/_src/debugger/cli_debugger.py\", line 162, in run\n  File \"/usr/local/lib/python3.10/cmd.py\", line 145, in cmdloop\n  File \"/usr/local/lib/python3.10/cmd.py\", line 217, in onecmd\n  File \"/home/oppenheimer/LinuxSetup/work/Learning-JAX/venv/lib/python3.10/site-packages/jax/_src/debugger/cli_debugger.py\", line 146, in do_quit\nSystemExit: 0"
     ]
    }
   ],
   "source": [
    "@jax.jit\n",
    "def f(x):\n",
    "  y, z = jnp.sin(x), jnp.cos(x)\n",
    "  jax.debug.breakpoint()\n",
    "  return y * z\n",
    "f(2.) # ==> Pauses during execution"
   ]
  },
  {
   "cell_type": "code",
   "execution_count": 12,
   "metadata": {},
   "outputs": [],
   "source": [
    "def breakpoint_if_nonfinite(x):\n",
    "    is_finite = jnp.isfinite(x).all()\n",
    "    def true_fn(x):\n",
    "        pass\n",
    "    def false_fn(x):\n",
    "        jax.debug.breakpoint()\n",
    "    jax.lax.cond(is_finite, true_fn, false_fn, x)"
   ]
  },
  {
   "cell_type": "code",
   "execution_count": 14,
   "metadata": {},
   "outputs": [
    {
     "name": "stdout",
     "output_type": "stream",
     "text": [
      "Entering jdb:\n",
      "Array(inf, dtype=float32)\n",
      "*** NameError: name 'y' is not defined\n",
      "*** NameError: name 'enter' is not defined\n",
      "*** SyntaxError: invalid syntax\n",
      "*** SyntaxError: invalid syntax\n",
      "*** SyntaxError: invalid syntax\n",
      "*** NameError: name 'cancel' is not defined\n"
     ]
    },
    {
     "name": "stderr",
     "output_type": "stream",
     "text": [
      "ERROR:2025-01-11 16:29:32,133:jax._src.debugging:95: jax.debug.callback failed\n",
      "Traceback (most recent call last):\n",
      "  File \"/home/oppenheimer/LinuxSetup/work/Learning-JAX/venv/lib/python3.10/site-packages/jax/_src/debugging.py\", line 93, in debug_callback_impl\n",
      "    callback(*args)\n",
      "  File \"/home/oppenheimer/LinuxSetup/work/Learning-JAX/venv/lib/python3.10/site-packages/jax/_src/debugging.py\", line 278, in _flat_callback\n",
      "    callback(*args, **kwargs)\n",
      "  File \"/home/oppenheimer/LinuxSetup/work/Learning-JAX/venv/lib/python3.10/site-packages/jax/_src/debugger/core.py\", line 220, in _breakpoint_callback\n",
      "    debugger(frames, thread_id, **kwargs)\n",
      "  File \"/home/oppenheimer/LinuxSetup/work/Learning-JAX/venv/lib/python3.10/site-packages/jax/_src/debugger/cli_debugger.py\", line 167, in run_debugger\n",
      "    CliDebugger(frames, thread_id, **kwargs).run()\n",
      "  File \"/home/oppenheimer/LinuxSetup/work/Learning-JAX/venv/lib/python3.10/site-packages/jax/_src/debugger/cli_debugger.py\", line 160, in run\n",
      "    self.cmdloop()\n",
      "  File \"/usr/local/lib/python3.10/cmd.py\", line 138, in cmdloop\n",
      "    stop = self.onecmd(line)\n",
      "  File \"/usr/local/lib/python3.10/cmd.py\", line 217, in onecmd\n",
      "    return func(arg)\n",
      "  File \"/home/oppenheimer/LinuxSetup/work/Learning-JAX/venv/lib/python3.10/site-packages/jax/_src/debugger/cli_debugger.py\", line 146, in do_quit\n",
      "    sys.exit(0)\n",
      "SystemExit: 0\n",
      "E0111 16:29:32.135710 3713327 pjrt_stream_executor_client.cc:3086] Execution of replica 0 failed: INTERNAL: CustomCall failed: CpuCallback error: Traceback (most recent call last):\n",
      "  File \"/usr/local/lib/python3.10/runpy.py\", line 196, in _run_module_as_main\n",
      "  File \"/usr/local/lib/python3.10/runpy.py\", line 86, in _run_code\n",
      "  File \"/home/oppenheimer/LinuxSetup/work/Learning-JAX/venv/lib/python3.10/site-packages/ipykernel_launcher.py\", line 18, in <module>\n",
      "  File \"/home/oppenheimer/LinuxSetup/work/Learning-JAX/venv/lib/python3.10/site-packages/traitlets/config/application.py\", line 1075, in launch_instance\n",
      "  File \"/home/oppenheimer/LinuxSetup/work/Learning-JAX/venv/lib/python3.10/site-packages/ipykernel/kernelapp.py\", line 739, in start\n",
      "  File \"/home/oppenheimer/LinuxSetup/work/Learning-JAX/venv/lib/python3.10/site-packages/tornado/platform/asyncio.py\", line 205, in start\n",
      "  File \"/usr/local/lib/python3.10/asyncio/base_events.py\", line 603, in run_forever\n",
      "  File \"/usr/local/lib/python3.10/asyncio/base_events.py\", line 1909, in _run_once\n",
      "  File \"/usr/local/lib/python3.10/asyncio/events.py\", line 80, in _run\n",
      "  File \"/home/oppenheimer/LinuxSetup/work/Learning-JAX/venv/lib/python3.10/site-packages/ipykernel/kernelbase.py\", line 545, in dispatch_queue\n",
      "  File \"/home/oppenheimer/LinuxSetup/work/Learning-JAX/venv/lib/python3.10/site-packages/ipykernel/kernelbase.py\", line 534, in process_one\n",
      "  File \"/home/oppenheimer/LinuxSetup/work/Learning-JAX/venv/lib/python3.10/site-packages/ipykernel/kernelbase.py\", line 437, in dispatch_shell\n",
      "  File \"/home/oppenheimer/LinuxSetup/work/Learning-JAX/venv/lib/python3.10/site-packages/ipykernel/ipkernel.py\", line 362, in execute_request\n",
      "  File \"/home/oppenheimer/LinuxSetup/work/Learning-JAX/venv/lib/python3.10/site-packages/ipykernel/kernelbase.py\", line 778, in execute_request\n",
      "  File \"/home/oppenheimer/LinuxSetup/work/Learning-JAX/venv/lib/python3.10/site-packages/ipykernel/ipkernel.py\", line 449, in do_execute\n",
      "  File \"/home/oppenheimer/LinuxSetup/work/Learning-JAX/venv/lib/python3.10/site-packages/ipykernel/zmqshell.py\", line 549, in run_cell\n",
      "  File \"/home/oppenheimer/LinuxSetup/work/Learning-JAX/venv/lib/python3.10/site-packages/IPython/core/interactiveshell.py\", line 3075, in run_cell\n",
      "  File \"/home/oppenheimer/LinuxSetup/work/Learning-JAX/venv/lib/python3.10/site-packages/IPython/core/interactiveshell.py\", line 3130, in _run_cell\n",
      "  File \"/home/oppenheimer/LinuxSetup/work/Learning-JAX/venv/lib/python3.10/site-packages/IPython/core/async_helpers.py\", line 128, in _pseudo_sync_runner\n",
      "  File \"/home/oppenheimer/LinuxSetup/work/Learning-JAX/venv/lib/python3.10/site-packages/IPython/core/interactiveshell.py\", line 3334, in run_cell_async\n",
      "  File \"/home/oppenheimer/LinuxSetup/work/Learning-JAX/venv/lib/python3.10/site-packages/IPython/core/interactiveshell.py\", line 3517, in run_ast_nodes\n",
      "  File \"/home/oppenheimer/LinuxSetup/work/Learning-JAX/venv/lib/python3.10/site-packages/IPython/core/interactiveshell.py\", line 3577, in run_code\n",
      "  File \"/tmp/ipykernel_3713327/2052121746.py\", line 7, in <module>\n",
      "  File \"/home/oppenheimer/LinuxSetup/work/Learning-JAX/venv/lib/python3.10/site-packages/jax/_src/traceback_util.py\", line 180, in reraise_with_filtered_traceback\n",
      "  File \"/home/oppenheimer/LinuxSetup/work/Learning-JAX/venv/lib/python3.10/site-packages/jax/_src/pjit.py\", line 337, in cache_miss\n",
      "  File \"/home/oppenheimer/LinuxSetup/work/Learning-JAX/venv/lib/python3.10/site-packages/jax/_src/pjit.py\", line 195, in _python_pjit_helper\n",
      "  File \"/home/oppenheimer/LinuxSetup/work/Learning-JAX/venv/lib/python3.10/site-packages/jax/_src/pjit.py\", line 1695, in _pjit_call_impl_python\n",
      "  File \"/home/oppenheimer/LinuxSetup/work/Learning-JAX/venv/lib/python3.10/site-packages/jax/_src/profiler.py\", line 333, in wrapper\n",
      "  File \"/home/oppenheimer/LinuxSetup/work/Learning-JAX/venv/lib/python3.10/site-packages/jax/_src/interpreters/pxla.py\", line 1289, in __call__\n",
      "  File \"/home/oppenheimer/LinuxSetup/work/Learning-JAX/venv/lib/python3.10/site-packages/jax/_src/interpreters/mlir.py\", line 2854, in _wrapped_callback\n",
      "  File \"/home/oppenheimer/LinuxSetup/work/Learning-JAX/venv/lib/python3.10/site-packages/jax/_src/debugging.py\", line 160, in _callback\n",
      "  File \"/home/oppenheimer/LinuxSetup/work/Learning-JAX/venv/lib/python3.10/site-packages/jax/_src/debugging.py\", line 96, in debug_callback_impl\n",
      "  File \"/home/oppenheimer/LinuxSetup/work/Learning-JAX/venv/lib/python3.10/site-packages/jax/_src/debugging.py\", line 278, in _flat_callback\n",
      "  File \"/home/oppenheimer/LinuxSetup/work/Learning-JAX/venv/lib/python3.10/site-packages/jax/_src/debugger/core.py\", line 220, in _breakpoint_callback\n",
      "  File \"/home/oppenheimer/LinuxSetup/work/Learning-JAX/venv/lib/python3.10/site-packages/jax/_src/debugger/cli_debugger.py\", line 167, in run_debugger\n",
      "  File \"/home/oppenheimer/LinuxSetup/work/Learning-JAX/venv/lib/python3.10/site-packages/jax/_src/debugger/cli_debugger.py\", line 162, in run\n",
      "  File \"/usr/local/lib/python3.10/cmd.py\", line 145, in cmdloop\n",
      "  File \"/usr/local/lib/python3.10/cmd.py\", line 217, in onecmd\n",
      "  File \"/home/oppenheimer/LinuxSetup/work/Learning-JAX/venv/lib/python3.10/site-packages/jax/_src/debugger/cli_debugger.py\", line 146, in do_quit\n",
      "SystemExit: 0\n"
     ]
    },
    {
     "ename": "XlaRuntimeError",
     "evalue": "INTERNAL: CustomCall failed: CpuCallback error: Traceback (most recent call last):\n  File \"/usr/local/lib/python3.10/runpy.py\", line 196, in _run_module_as_main\n  File \"/usr/local/lib/python3.10/runpy.py\", line 86, in _run_code\n  File \"/home/oppenheimer/LinuxSetup/work/Learning-JAX/venv/lib/python3.10/site-packages/ipykernel_launcher.py\", line 18, in <module>\n  File \"/home/oppenheimer/LinuxSetup/work/Learning-JAX/venv/lib/python3.10/site-packages/traitlets/config/application.py\", line 1075, in launch_instance\n  File \"/home/oppenheimer/LinuxSetup/work/Learning-JAX/venv/lib/python3.10/site-packages/ipykernel/kernelapp.py\", line 739, in start\n  File \"/home/oppenheimer/LinuxSetup/work/Learning-JAX/venv/lib/python3.10/site-packages/tornado/platform/asyncio.py\", line 205, in start\n  File \"/usr/local/lib/python3.10/asyncio/base_events.py\", line 603, in run_forever\n  File \"/usr/local/lib/python3.10/asyncio/base_events.py\", line 1909, in _run_once\n  File \"/usr/local/lib/python3.10/asyncio/events.py\", line 80, in _run\n  File \"/home/oppenheimer/LinuxSetup/work/Learning-JAX/venv/lib/python3.10/site-packages/ipykernel/kernelbase.py\", line 545, in dispatch_queue\n  File \"/home/oppenheimer/LinuxSetup/work/Learning-JAX/venv/lib/python3.10/site-packages/ipykernel/kernelbase.py\", line 534, in process_one\n  File \"/home/oppenheimer/LinuxSetup/work/Learning-JAX/venv/lib/python3.10/site-packages/ipykernel/kernelbase.py\", line 437, in dispatch_shell\n  File \"/home/oppenheimer/LinuxSetup/work/Learning-JAX/venv/lib/python3.10/site-packages/ipykernel/ipkernel.py\", line 362, in execute_request\n  File \"/home/oppenheimer/LinuxSetup/work/Learning-JAX/venv/lib/python3.10/site-packages/ipykernel/kernelbase.py\", line 778, in execute_request\n  File \"/home/oppenheimer/LinuxSetup/work/Learning-JAX/venv/lib/python3.10/site-packages/ipykernel/ipkernel.py\", line 449, in do_execute\n  File \"/home/oppenheimer/LinuxSetup/work/Learning-JAX/venv/lib/python3.10/site-packages/ipykernel/zmqshell.py\", line 549, in run_cell\n  File \"/home/oppenheimer/LinuxSetup/work/Learning-JAX/venv/lib/python3.10/site-packages/IPython/core/interactiveshell.py\", line 3075, in run_cell\n  File \"/home/oppenheimer/LinuxSetup/work/Learning-JAX/venv/lib/python3.10/site-packages/IPython/core/interactiveshell.py\", line 3130, in _run_cell\n  File \"/home/oppenheimer/LinuxSetup/work/Learning-JAX/venv/lib/python3.10/site-packages/IPython/core/async_helpers.py\", line 128, in _pseudo_sync_runner\n  File \"/home/oppenheimer/LinuxSetup/work/Learning-JAX/venv/lib/python3.10/site-packages/IPython/core/interactiveshell.py\", line 3334, in run_cell_async\n  File \"/home/oppenheimer/LinuxSetup/work/Learning-JAX/venv/lib/python3.10/site-packages/IPython/core/interactiveshell.py\", line 3517, in run_ast_nodes\n  File \"/home/oppenheimer/LinuxSetup/work/Learning-JAX/venv/lib/python3.10/site-packages/IPython/core/interactiveshell.py\", line 3577, in run_code\n  File \"/tmp/ipykernel_3713327/2052121746.py\", line 7, in <module>\n  File \"/home/oppenheimer/LinuxSetup/work/Learning-JAX/venv/lib/python3.10/site-packages/jax/_src/traceback_util.py\", line 180, in reraise_with_filtered_traceback\n  File \"/home/oppenheimer/LinuxSetup/work/Learning-JAX/venv/lib/python3.10/site-packages/jax/_src/pjit.py\", line 337, in cache_miss\n  File \"/home/oppenheimer/LinuxSetup/work/Learning-JAX/venv/lib/python3.10/site-packages/jax/_src/pjit.py\", line 195, in _python_pjit_helper\n  File \"/home/oppenheimer/LinuxSetup/work/Learning-JAX/venv/lib/python3.10/site-packages/jax/_src/pjit.py\", line 1695, in _pjit_call_impl_python\n  File \"/home/oppenheimer/LinuxSetup/work/Learning-JAX/venv/lib/python3.10/site-packages/jax/_src/profiler.py\", line 333, in wrapper\n  File \"/home/oppenheimer/LinuxSetup/work/Learning-JAX/venv/lib/python3.10/site-packages/jax/_src/interpreters/pxla.py\", line 1289, in __call__\n  File \"/home/oppenheimer/LinuxSetup/work/Learning-JAX/venv/lib/python3.10/site-packages/jax/_src/interpreters/mlir.py\", line 2854, in _wrapped_callback\n  File \"/home/oppenheimer/LinuxSetup/work/Learning-JAX/venv/lib/python3.10/site-packages/jax/_src/debugging.py\", line 160, in _callback\n  File \"/home/oppenheimer/LinuxSetup/work/Learning-JAX/venv/lib/python3.10/site-packages/jax/_src/debugging.py\", line 96, in debug_callback_impl\n  File \"/home/oppenheimer/LinuxSetup/work/Learning-JAX/venv/lib/python3.10/site-packages/jax/_src/debugging.py\", line 278, in _flat_callback\n  File \"/home/oppenheimer/LinuxSetup/work/Learning-JAX/venv/lib/python3.10/site-packages/jax/_src/debugger/core.py\", line 220, in _breakpoint_callback\n  File \"/home/oppenheimer/LinuxSetup/work/Learning-JAX/venv/lib/python3.10/site-packages/jax/_src/debugger/cli_debugger.py\", line 167, in run_debugger\n  File \"/home/oppenheimer/LinuxSetup/work/Learning-JAX/venv/lib/python3.10/site-packages/jax/_src/debugger/cli_debugger.py\", line 162, in run\n  File \"/usr/local/lib/python3.10/cmd.py\", line 145, in cmdloop\n  File \"/usr/local/lib/python3.10/cmd.py\", line 217, in onecmd\n  File \"/home/oppenheimer/LinuxSetup/work/Learning-JAX/venv/lib/python3.10/site-packages/jax/_src/debugger/cli_debugger.py\", line 146, in do_quit\nSystemExit: 0",
     "output_type": "error",
     "traceback": [
      "\u001b[0;31m---------------------------------------------------------------------------\u001b[0m",
      "\u001b[0;31mXlaRuntimeError\u001b[0m                           Traceback (most recent call last)",
      "Cell \u001b[0;32mIn[14], line 7\u001b[0m\n\u001b[1;32m      4\u001b[0m   breakpoint_if_nonfinite(z)\n\u001b[1;32m      5\u001b[0m   \u001b[38;5;28;01mreturn\u001b[39;00m z\n\u001b[0;32m----> 7\u001b[0m \u001b[43mf\u001b[49m\u001b[43m(\u001b[49m\u001b[38;5;241;43m2.\u001b[39;49m\u001b[43m,\u001b[49m\u001b[43m \u001b[49m\u001b[38;5;241;43m0.\u001b[39;49m\u001b[43m)\u001b[49m\n",
      "    \u001b[0;31m[... skipping hidden 5 frame]\u001b[0m\n",
      "File \u001b[0;32m~/LinuxSetup/work/Learning-JAX/venv/lib/python3.10/site-packages/jax/_src/interpreters/pxla.py:1289\u001b[0m, in \u001b[0;36mExecuteReplicated.__call__\u001b[0;34m(self, *args)\u001b[0m\n\u001b[1;32m   1286\u001b[0m \u001b[38;5;28;01mif\u001b[39;00m (\u001b[38;5;28mself\u001b[39m\u001b[38;5;241m.\u001b[39mordered_effects \u001b[38;5;129;01mor\u001b[39;00m \u001b[38;5;28mself\u001b[39m\u001b[38;5;241m.\u001b[39mhas_unordered_effects\n\u001b[1;32m   1287\u001b[0m     \u001b[38;5;129;01mor\u001b[39;00m \u001b[38;5;28mself\u001b[39m\u001b[38;5;241m.\u001b[39mhas_host_callbacks):\n\u001b[1;32m   1288\u001b[0m   input_bufs \u001b[38;5;241m=\u001b[39m \u001b[38;5;28mself\u001b[39m\u001b[38;5;241m.\u001b[39m_add_tokens_to_inputs(input_bufs)\n\u001b[0;32m-> 1289\u001b[0m   results \u001b[38;5;241m=\u001b[39m \u001b[38;5;28;43mself\u001b[39;49m\u001b[38;5;241;43m.\u001b[39;49m\u001b[43mxla_executable\u001b[49m\u001b[38;5;241;43m.\u001b[39;49m\u001b[43mexecute_sharded\u001b[49m\u001b[43m(\u001b[49m\n\u001b[1;32m   1290\u001b[0m \u001b[43m      \u001b[49m\u001b[43minput_bufs\u001b[49m\u001b[43m,\u001b[49m\u001b[43m \u001b[49m\u001b[43mwith_tokens\u001b[49m\u001b[38;5;241;43m=\u001b[39;49m\u001b[38;5;28;43;01mTrue\u001b[39;49;00m\n\u001b[1;32m   1291\u001b[0m \u001b[43m  \u001b[49m\u001b[43m)\u001b[49m\n\u001b[1;32m   1293\u001b[0m   result_token_bufs \u001b[38;5;241m=\u001b[39m results\u001b[38;5;241m.\u001b[39mdisassemble_prefix_into_single_device_arrays(\n\u001b[1;32m   1294\u001b[0m       \u001b[38;5;28mlen\u001b[39m(\u001b[38;5;28mself\u001b[39m\u001b[38;5;241m.\u001b[39mordered_effects))\n\u001b[1;32m   1295\u001b[0m   sharded_runtime_token \u001b[38;5;241m=\u001b[39m results\u001b[38;5;241m.\u001b[39mconsume_token()\n",
      "\u001b[0;31mXlaRuntimeError\u001b[0m: INTERNAL: CustomCall failed: CpuCallback error: Traceback (most recent call last):\n  File \"/usr/local/lib/python3.10/runpy.py\", line 196, in _run_module_as_main\n  File \"/usr/local/lib/python3.10/runpy.py\", line 86, in _run_code\n  File \"/home/oppenheimer/LinuxSetup/work/Learning-JAX/venv/lib/python3.10/site-packages/ipykernel_launcher.py\", line 18, in <module>\n  File \"/home/oppenheimer/LinuxSetup/work/Learning-JAX/venv/lib/python3.10/site-packages/traitlets/config/application.py\", line 1075, in launch_instance\n  File \"/home/oppenheimer/LinuxSetup/work/Learning-JAX/venv/lib/python3.10/site-packages/ipykernel/kernelapp.py\", line 739, in start\n  File \"/home/oppenheimer/LinuxSetup/work/Learning-JAX/venv/lib/python3.10/site-packages/tornado/platform/asyncio.py\", line 205, in start\n  File \"/usr/local/lib/python3.10/asyncio/base_events.py\", line 603, in run_forever\n  File \"/usr/local/lib/python3.10/asyncio/base_events.py\", line 1909, in _run_once\n  File \"/usr/local/lib/python3.10/asyncio/events.py\", line 80, in _run\n  File \"/home/oppenheimer/LinuxSetup/work/Learning-JAX/venv/lib/python3.10/site-packages/ipykernel/kernelbase.py\", line 545, in dispatch_queue\n  File \"/home/oppenheimer/LinuxSetup/work/Learning-JAX/venv/lib/python3.10/site-packages/ipykernel/kernelbase.py\", line 534, in process_one\n  File \"/home/oppenheimer/LinuxSetup/work/Learning-JAX/venv/lib/python3.10/site-packages/ipykernel/kernelbase.py\", line 437, in dispatch_shell\n  File \"/home/oppenheimer/LinuxSetup/work/Learning-JAX/venv/lib/python3.10/site-packages/ipykernel/ipkernel.py\", line 362, in execute_request\n  File \"/home/oppenheimer/LinuxSetup/work/Learning-JAX/venv/lib/python3.10/site-packages/ipykernel/kernelbase.py\", line 778, in execute_request\n  File \"/home/oppenheimer/LinuxSetup/work/Learning-JAX/venv/lib/python3.10/site-packages/ipykernel/ipkernel.py\", line 449, in do_execute\n  File \"/home/oppenheimer/LinuxSetup/work/Learning-JAX/venv/lib/python3.10/site-packages/ipykernel/zmqshell.py\", line 549, in run_cell\n  File \"/home/oppenheimer/LinuxSetup/work/Learning-JAX/venv/lib/python3.10/site-packages/IPython/core/interactiveshell.py\", line 3075, in run_cell\n  File \"/home/oppenheimer/LinuxSetup/work/Learning-JAX/venv/lib/python3.10/site-packages/IPython/core/interactiveshell.py\", line 3130, in _run_cell\n  File \"/home/oppenheimer/LinuxSetup/work/Learning-JAX/venv/lib/python3.10/site-packages/IPython/core/async_helpers.py\", line 128, in _pseudo_sync_runner\n  File \"/home/oppenheimer/LinuxSetup/work/Learning-JAX/venv/lib/python3.10/site-packages/IPython/core/interactiveshell.py\", line 3334, in run_cell_async\n  File \"/home/oppenheimer/LinuxSetup/work/Learning-JAX/venv/lib/python3.10/site-packages/IPython/core/interactiveshell.py\", line 3517, in run_ast_nodes\n  File \"/home/oppenheimer/LinuxSetup/work/Learning-JAX/venv/lib/python3.10/site-packages/IPython/core/interactiveshell.py\", line 3577, in run_code\n  File \"/tmp/ipykernel_3713327/2052121746.py\", line 7, in <module>\n  File \"/home/oppenheimer/LinuxSetup/work/Learning-JAX/venv/lib/python3.10/site-packages/jax/_src/traceback_util.py\", line 180, in reraise_with_filtered_traceback\n  File \"/home/oppenheimer/LinuxSetup/work/Learning-JAX/venv/lib/python3.10/site-packages/jax/_src/pjit.py\", line 337, in cache_miss\n  File \"/home/oppenheimer/LinuxSetup/work/Learning-JAX/venv/lib/python3.10/site-packages/jax/_src/pjit.py\", line 195, in _python_pjit_helper\n  File \"/home/oppenheimer/LinuxSetup/work/Learning-JAX/venv/lib/python3.10/site-packages/jax/_src/pjit.py\", line 1695, in _pjit_call_impl_python\n  File \"/home/oppenheimer/LinuxSetup/work/Learning-JAX/venv/lib/python3.10/site-packages/jax/_src/profiler.py\", line 333, in wrapper\n  File \"/home/oppenheimer/LinuxSetup/work/Learning-JAX/venv/lib/python3.10/site-packages/jax/_src/interpreters/pxla.py\", line 1289, in __call__\n  File \"/home/oppenheimer/LinuxSetup/work/Learning-JAX/venv/lib/python3.10/site-packages/jax/_src/interpreters/mlir.py\", line 2854, in _wrapped_callback\n  File \"/home/oppenheimer/LinuxSetup/work/Learning-JAX/venv/lib/python3.10/site-packages/jax/_src/debugging.py\", line 160, in _callback\n  File \"/home/oppenheimer/LinuxSetup/work/Learning-JAX/venv/lib/python3.10/site-packages/jax/_src/debugging.py\", line 96, in debug_callback_impl\n  File \"/home/oppenheimer/LinuxSetup/work/Learning-JAX/venv/lib/python3.10/site-packages/jax/_src/debugging.py\", line 278, in _flat_callback\n  File \"/home/oppenheimer/LinuxSetup/work/Learning-JAX/venv/lib/python3.10/site-packages/jax/_src/debugger/core.py\", line 220, in _breakpoint_callback\n  File \"/home/oppenheimer/LinuxSetup/work/Learning-JAX/venv/lib/python3.10/site-packages/jax/_src/debugger/cli_debugger.py\", line 167, in run_debugger\n  File \"/home/oppenheimer/LinuxSetup/work/Learning-JAX/venv/lib/python3.10/site-packages/jax/_src/debugger/cli_debugger.py\", line 162, in run\n  File \"/usr/local/lib/python3.10/cmd.py\", line 145, in cmdloop\n  File \"/usr/local/lib/python3.10/cmd.py\", line 217, in onecmd\n  File \"/home/oppenheimer/LinuxSetup/work/Learning-JAX/venv/lib/python3.10/site-packages/jax/_src/debugger/cli_debugger.py\", line 146, in do_quit\nSystemExit: 0"
     ]
    }
   ],
   "source": [
    "@jax.jit\n",
    "def f(x, y):\n",
    "  z = x / y\n",
    "  breakpoint_if_nonfinite(z)\n",
    "  return z\n",
    "\n",
    "f(2., 0.)"
   ]
  },
  {
   "cell_type": "code",
   "execution_count": null,
   "metadata": {},
   "outputs": [],
   "source": []
  }
 ],
 "metadata": {
  "kernelspec": {
   "display_name": "venv",
   "language": "python",
   "name": "python3"
  },
  "language_info": {
   "codemirror_mode": {
    "name": "ipython",
    "version": 3
   },
   "file_extension": ".py",
   "mimetype": "text/x-python",
   "name": "python",
   "nbconvert_exporter": "python",
   "pygments_lexer": "ipython3",
   "version": "3.10.14"
  }
 },
 "nbformat": 4,
 "nbformat_minor": 2
}
