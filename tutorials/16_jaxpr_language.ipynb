{
 "cells": [
  {
   "cell_type": "markdown",
   "metadata": {},
   "source": [
    "Jaxpr is JAX's internal representation of program. They are explicitly typed, functional, first-order and in algebraic normal form."
   ]
  },
  {
   "cell_type": "markdown",
   "metadata": {},
   "source": [
    "A jaxpr instance represents pure function. There is no concept of outer scope in jaxpr."
   ]
  },
  {
   "cell_type": "markdown",
   "metadata": {},
   "source": [
    "```\n",
    "jaxpr ::= { lambda Var* ; Var+.\n",
    "            let Eqn*\n",
    "            in  [Expr+] }\n",
    "```"
   ]
  },
  {
   "cell_type": "markdown",
   "metadata": {},
   "source": [
    "The first parameter is called constVars, and holds constants. \n",
    "\n",
    "The second parameter, a list of variables, is called invars, corresponding to the inputs of the traced python function."
   ]
  },
  {
   "cell_type": "markdown",
   "metadata": {},
   "source": [
    "Eqn* defines a list of expressions or operations that are applied."
   ]
  },
  {
   "cell_type": "markdown",
   "metadata": {},
   "source": [
    "Expr+ are the set of output variables"
   ]
  },
  {
   "cell_type": "markdown",
   "metadata": {},
   "source": [
    "Each equation is printed as ```Eqn  ::= let Var+ = Primitive [ Param* ] Expr+```"
   ]
  },
  {
   "cell_type": "markdown",
   "metadata": {},
   "source": [
    "\n",
    "\n",
    "    Var+ are one or more intermediate variables to be defined as the output of a primitive invocation (some primitives can return multiple values).\n",
    "\n",
    "    Expr+ are one or more atomic expressions, each either a variable or a literal constant. A special variable unitvar or literal unit, printed as *, represents a value that is not needed in the rest of the computation and has been elided. That is, units are just placeholders.\n",
    "\n",
    "    Param* are zero or more named parameters to the primitive, printed in square brackets. Each parameter is shown as Name = Value.\n"
   ]
  },
  {
   "cell_type": "markdown",
   "metadata": {},
   "source": [
    "jax.lax contains the most common primitives"
   ]
  },
  {
   "cell_type": "markdown",
   "metadata": {},
   "source": [
    "Primitives in jaxpr take multiple input and produce multiple output."
   ]
  },
  {
   "cell_type": "markdown",
   "metadata": {},
   "source": [
    "When processing pytree, jax will flatten it as it appears as a list in jaxpr"
   ]
  },
  {
   "cell_type": "markdown",
   "metadata": {},
   "source": [
    "Constant variables: \n",
    "\n",
    "When scalar: They are represented in-line  \n",
    "When non-scalar: They are passed as constVar. They differ only for bookkeeping compared to invars"
   ]
  },
  {
   "cell_type": "markdown",
   "metadata": {},
   "source": []
  }
 ],
 "metadata": {
  "language_info": {
   "name": "python"
  }
 },
 "nbformat": 4,
 "nbformat_minor": 2
}
